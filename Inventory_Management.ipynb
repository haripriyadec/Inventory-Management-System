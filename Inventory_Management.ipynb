{
  "nbformat": 4,
  "nbformat_minor": 0,
  "metadata": {
    "colab": {
      "name": "Inventory Management.ipynb",
      "provenance": []
    },
    "kernelspec": {
      "name": "python3",
      "display_name": "Python 3"
    },
    "language_info": {
      "name": "python"
    }
  },
  "cells": [
    {
      "cell_type": "markdown",
      "metadata": {
        "id": "ca1kzdVn02GJ"
      },
      "source": [
        "### **Reading the data**"
      ]
    },
    {
      "cell_type": "code",
      "metadata": {
        "id": "M3iwtMu_Y4rF"
      },
      "source": [
        "import json\n",
        "fd = open(\"products.txt\",'r')\n",
        "r = fd.read()\n",
        "fd.close()\n",
        "record=json.loads(r)"
      ],
      "execution_count": 51,
      "outputs": []
    },
    {
      "cell_type": "code",
      "metadata": {
        "colab": {
          "base_uri": "https://localhost:8080/"
        },
        "id": "HKQa_6L8ZEnT",
        "outputId": "a572ae15-f6d1-4f8f-8050-16963d4db22c"
      },
      "source": [
        "#to check the data\n",
        "record"
      ],
      "execution_count": 52,
      "outputs": [
        {
          "output_type": "execute_result",
          "data": {
            "text/plain": [
              "{'1001': {'Name': 'Biscuit', 'Price': 50, 'Quantity': 100},\n",
              " '1002': {'Name': 'Chips', 'Price': 10, 'Quantity': 200},\n",
              " '1003': {'Name': 'Shampoo', 'Price': 125, 'Quantity': 100},\n",
              " '1004': {'Name': 'Chocolate', 'Price': 10, 'Quantity': 1000},\n",
              " '1005': {'Name': 'Pen', 'Price': 20, 'Quantity': 100},\n",
              " '1006': {'Name': 'Oil', 'Price': 75, 'Quantity': 100},\n",
              " '1007': {'Name': 'Bottles', 'Price': 170, 'Quantity': 200},\n",
              " '1008': {'Name': 'Umbrella', 'Price': 300, 'Quantity': 30},\n",
              " '1009': {'Name': 'Graph', 'Price': 1, 'Quantity': 100},\n",
              " '1010': {'Name': 'Lipstick', 'Price': 70, 'Quantity': 50},\n",
              " '1011': {'Name': 'Comb', 'Price': 25, 'Quantity': 70},\n",
              " '1012': {'Name': 'Band', 'Price': 10, 'Quantity': 100},\n",
              " '1013': {'Name': 'Pencil', 'Price': 10, 'Quantity': 200},\n",
              " '1014': {'Name': 'Cutter', 'Price': 95, 'Quantity': 20},\n",
              " '1015': {'Name': 'Plates', 'Price': 25, 'Quantity': 100},\n",
              " '1016': {'Name': 'Hair Gel', 'Price': 200, 'Quantity': 80},\n",
              " '1017': {'Name': 'Towel', 'Price': 300, 'Quantity': 25},\n",
              " '1018': {'Name': 'Chair', 'Price': 575, 'Quantity': 10},\n",
              " '1019': {'Name': 'Frame', 'Price': 170, 'Quantity': 20},\n",
              " '1020': {'Name': 'Toys', 'Price': 300, 'Quantity': 30},\n",
              " '1021': {'Name': 'Cake', 'Price': 25, 'Quantity': 25},\n",
              " '1022': {'Name': 'Ice cream', 'Price': 10, 'Quantity': 200},\n",
              " '1023': {'Name': 'Milk', 'Price': 25, 'Quantity': 60},\n",
              " '1024': {'Name': 'Butter', 'Price': 185, 'Quantity': 30},\n",
              " '1025': {'Name': 'Paneer', 'Price': 190, 'Quantity': 25},\n",
              " '1026': {'Name': 'Mask', 'Price': 15, 'Quantity': 300},\n",
              " '1027': {'Name': 'Socks', 'Price': 170, 'Quantity': 100},\n",
              " '1028': {'Name': 'Pouch', 'Price': 30, 'Quantity': 100},\n",
              " '1029': {'Name': 'Scissors', 'Price': 90, 'Quantity': 100},\n",
              " '1030': {'Name': 'Gum', 'Price': 30, 'Quantity': 100}}"
            ]
          },
          "metadata": {},
          "execution_count": 52
        }
      ]
    },
    {
      "cell_type": "markdown",
      "metadata": {
        "id": "bzOuzvM4ZKaN"
      },
      "source": [
        "### **Adding an new item to the inventory**"
      ]
    },
    {
      "cell_type": "code",
      "metadata": {
        "id": "R5qiGrBGZYUu",
        "colab": {
          "base_uri": "https://localhost:8080/"
        },
        "outputId": "0442fbce-e516-409d-e5a4-7299446c9fba"
      },
      "source": [
        "prod_id = str(input(\"Enter product id:\"))\n",
        "Name = str(input(\"Enter name:\"))\n",
        "Price = int(input(\"Enter price:\"))\n",
        "Quantity=int(input(\"Enter quantity:\"))\n",
        "\n",
        "record[prod_id] = {'Name': Name, 'Price': Price, 'Quantity': Quantity}\n",
        "\n",
        "js = json.dumps(record)\n",
        "\n",
        "fd = open(\"record.json\",'w')\n",
        "fd.write(js)\n",
        "fd.close()"
      ],
      "execution_count": 53,
      "outputs": [
        {
          "name": "stdout",
          "output_type": "stream",
          "text": [
            "Enter product id:1031\n",
            "Enter name:Ring\n",
            "Enter price:500\n",
            "Enter quantity:20\n"
          ]
        }
      ]
    },
    {
      "cell_type": "code",
      "metadata": {
        "colab": {
          "base_uri": "https://localhost:8080/"
        },
        "id": "CHb5gXp-3Lr4",
        "outputId": "3a92ec9a-0524-4bc8-a495-f647178fb5ae"
      },
      "source": [
        "#to check\n",
        "record"
      ],
      "execution_count": 54,
      "outputs": [
        {
          "output_type": "execute_result",
          "data": {
            "text/plain": [
              "{'1001': {'Name': 'Biscuit', 'Price': 50, 'Quantity': 100},\n",
              " '1002': {'Name': 'Chips', 'Price': 10, 'Quantity': 200},\n",
              " '1003': {'Name': 'Shampoo', 'Price': 125, 'Quantity': 100},\n",
              " '1004': {'Name': 'Chocolate', 'Price': 10, 'Quantity': 1000},\n",
              " '1005': {'Name': 'Pen', 'Price': 20, 'Quantity': 100},\n",
              " '1006': {'Name': 'Oil', 'Price': 75, 'Quantity': 100},\n",
              " '1007': {'Name': 'Bottles', 'Price': 170, 'Quantity': 200},\n",
              " '1008': {'Name': 'Umbrella', 'Price': 300, 'Quantity': 30},\n",
              " '1009': {'Name': 'Graph', 'Price': 1, 'Quantity': 100},\n",
              " '1010': {'Name': 'Lipstick', 'Price': 70, 'Quantity': 50},\n",
              " '1011': {'Name': 'Comb', 'Price': 25, 'Quantity': 70},\n",
              " '1012': {'Name': 'Band', 'Price': 10, 'Quantity': 100},\n",
              " '1013': {'Name': 'Pencil', 'Price': 10, 'Quantity': 200},\n",
              " '1014': {'Name': 'Cutter', 'Price': 95, 'Quantity': 20},\n",
              " '1015': {'Name': 'Plates', 'Price': 25, 'Quantity': 100},\n",
              " '1016': {'Name': 'Hair Gel', 'Price': 200, 'Quantity': 80},\n",
              " '1017': {'Name': 'Towel', 'Price': 300, 'Quantity': 25},\n",
              " '1018': {'Name': 'Chair', 'Price': 575, 'Quantity': 10},\n",
              " '1019': {'Name': 'Frame', 'Price': 170, 'Quantity': 20},\n",
              " '1020': {'Name': 'Toys', 'Price': 300, 'Quantity': 30},\n",
              " '1021': {'Name': 'Cake', 'Price': 25, 'Quantity': 25},\n",
              " '1022': {'Name': 'Ice cream', 'Price': 10, 'Quantity': 200},\n",
              " '1023': {'Name': 'Milk', 'Price': 25, 'Quantity': 60},\n",
              " '1024': {'Name': 'Butter', 'Price': 185, 'Quantity': 30},\n",
              " '1025': {'Name': 'Paneer', 'Price': 190, 'Quantity': 25},\n",
              " '1026': {'Name': 'Mask', 'Price': 15, 'Quantity': 300},\n",
              " '1027': {'Name': 'Socks', 'Price': 170, 'Quantity': 100},\n",
              " '1028': {'Name': 'Pouch', 'Price': 30, 'Quantity': 100},\n",
              " '1029': {'Name': 'Scissors', 'Price': 90, 'Quantity': 100},\n",
              " '1030': {'Name': 'Gum', 'Price': 30, 'Quantity': 100},\n",
              " '1031': {'Name': 'Ring', 'Price': 500, 'Quantity': 20}}"
            ]
          },
          "metadata": {},
          "execution_count": 54
        }
      ]
    },
    {
      "cell_type": "markdown",
      "metadata": {
        "id": "kTG-HFhUZfq6"
      },
      "source": [
        "## **Adding an existing item to the inventory**"
      ]
    },
    {
      "cell_type": "code",
      "metadata": {
        "colab": {
          "base_uri": "https://localhost:8080/"
        },
        "id": "DSMSk0FZZpDh",
        "outputId": "832835fa-0261-4867-da03-35c226bdc8e0"
      },
      "source": [
        "#restocking the inventory\n",
        "#to restock the items that already exists\n",
        "prod_id = str(input(\"Enter product id:\"))\n",
        "Name = str(input(\"Enter name:\"))\n",
        "Price = int(input(\"Enter price:\"))\n",
        "prod_quan= int(input(\"Enter quantity:\"))\n",
        "if prod_id in record.keys():\n",
        "  Quantity=record[prod_id]['Quantity']=record[prod_id]['Quantity']+prod_quan\n",
        "  record[prod_id] = {'Name': Name, 'Price': Price, 'Quantity':Quantity}\n"
      ],
      "execution_count": 55,
      "outputs": [
        {
          "name": "stdout",
          "output_type": "stream",
          "text": [
            "Enter product id:1001\n",
            "Enter name:Biscuit\n",
            "Enter price:50\n",
            "Enter quantity:50\n"
          ]
        }
      ]
    },
    {
      "cell_type": "code",
      "metadata": {
        "colab": {
          "base_uri": "https://localhost:8080/"
        },
        "id": "PMlha9-vZr-U",
        "outputId": "0a333de3-5c60-4cb2-d2af-e73aad690a60"
      },
      "source": [
        "#to check\n",
        "record"
      ],
      "execution_count": 56,
      "outputs": [
        {
          "output_type": "execute_result",
          "data": {
            "text/plain": [
              "{'1001': {'Name': 'Biscuit', 'Price': 50, 'Quantity': 150},\n",
              " '1002': {'Name': 'Chips', 'Price': 10, 'Quantity': 200},\n",
              " '1003': {'Name': 'Shampoo', 'Price': 125, 'Quantity': 100},\n",
              " '1004': {'Name': 'Chocolate', 'Price': 10, 'Quantity': 1000},\n",
              " '1005': {'Name': 'Pen', 'Price': 20, 'Quantity': 100},\n",
              " '1006': {'Name': 'Oil', 'Price': 75, 'Quantity': 100},\n",
              " '1007': {'Name': 'Bottles', 'Price': 170, 'Quantity': 200},\n",
              " '1008': {'Name': 'Umbrella', 'Price': 300, 'Quantity': 30},\n",
              " '1009': {'Name': 'Graph', 'Price': 1, 'Quantity': 100},\n",
              " '1010': {'Name': 'Lipstick', 'Price': 70, 'Quantity': 50},\n",
              " '1011': {'Name': 'Comb', 'Price': 25, 'Quantity': 70},\n",
              " '1012': {'Name': 'Band', 'Price': 10, 'Quantity': 100},\n",
              " '1013': {'Name': 'Pencil', 'Price': 10, 'Quantity': 200},\n",
              " '1014': {'Name': 'Cutter', 'Price': 95, 'Quantity': 20},\n",
              " '1015': {'Name': 'Plates', 'Price': 25, 'Quantity': 100},\n",
              " '1016': {'Name': 'Hair Gel', 'Price': 200, 'Quantity': 80},\n",
              " '1017': {'Name': 'Towel', 'Price': 300, 'Quantity': 25},\n",
              " '1018': {'Name': 'Chair', 'Price': 575, 'Quantity': 10},\n",
              " '1019': {'Name': 'Frame', 'Price': 170, 'Quantity': 20},\n",
              " '1020': {'Name': 'Toys', 'Price': 300, 'Quantity': 30},\n",
              " '1021': {'Name': 'Cake', 'Price': 25, 'Quantity': 25},\n",
              " '1022': {'Name': 'Ice cream', 'Price': 10, 'Quantity': 200},\n",
              " '1023': {'Name': 'Milk', 'Price': 25, 'Quantity': 60},\n",
              " '1024': {'Name': 'Butter', 'Price': 185, 'Quantity': 30},\n",
              " '1025': {'Name': 'Paneer', 'Price': 190, 'Quantity': 25},\n",
              " '1026': {'Name': 'Mask', 'Price': 15, 'Quantity': 300},\n",
              " '1027': {'Name': 'Socks', 'Price': 170, 'Quantity': 100},\n",
              " '1028': {'Name': 'Pouch', 'Price': 30, 'Quantity': 100},\n",
              " '1029': {'Name': 'Scissors', 'Price': 90, 'Quantity': 100},\n",
              " '1030': {'Name': 'Gum', 'Price': 30, 'Quantity': 100},\n",
              " '1031': {'Name': 'Ring', 'Price': 500, 'Quantity': 20}}"
            ]
          },
          "metadata": {},
          "execution_count": 56
        }
      ]
    },
    {
      "cell_type": "code",
      "metadata": {
        "id": "nVPv_uRGad-s"
      },
      "source": [
        "js = json.dumps(record)\n",
        "fd = open(\"record.json\",'w')\n",
        "fd.write(js)\n",
        "fd.close()"
      ],
      "execution_count": 57,
      "outputs": []
    },
    {
      "cell_type": "markdown",
      "metadata": {
        "id": "JJctGcWxaL1a"
      },
      "source": [
        "### **Removing items from the inventory**"
      ]
    },
    {
      "cell_type": "code",
      "metadata": {
        "id": "xtpxIEbjaIpx"
      },
      "source": [
        "del record['1030']"
      ],
      "execution_count": 58,
      "outputs": []
    },
    {
      "cell_type": "code",
      "metadata": {
        "colab": {
          "base_uri": "https://localhost:8080/"
        },
        "id": "JZnDPPYqaUwb",
        "outputId": "9f11af4a-0d98-4fe6-acea-bcf013ba9473"
      },
      "source": [
        "#to check the deleted record\n",
        "record"
      ],
      "execution_count": 59,
      "outputs": [
        {
          "output_type": "execute_result",
          "data": {
            "text/plain": [
              "{'1001': {'Name': 'Biscuit', 'Price': 50, 'Quantity': 150},\n",
              " '1002': {'Name': 'Chips', 'Price': 10, 'Quantity': 200},\n",
              " '1003': {'Name': 'Shampoo', 'Price': 125, 'Quantity': 100},\n",
              " '1004': {'Name': 'Chocolate', 'Price': 10, 'Quantity': 1000},\n",
              " '1005': {'Name': 'Pen', 'Price': 20, 'Quantity': 100},\n",
              " '1006': {'Name': 'Oil', 'Price': 75, 'Quantity': 100},\n",
              " '1007': {'Name': 'Bottles', 'Price': 170, 'Quantity': 200},\n",
              " '1008': {'Name': 'Umbrella', 'Price': 300, 'Quantity': 30},\n",
              " '1009': {'Name': 'Graph', 'Price': 1, 'Quantity': 100},\n",
              " '1010': {'Name': 'Lipstick', 'Price': 70, 'Quantity': 50},\n",
              " '1011': {'Name': 'Comb', 'Price': 25, 'Quantity': 70},\n",
              " '1012': {'Name': 'Band', 'Price': 10, 'Quantity': 100},\n",
              " '1013': {'Name': 'Pencil', 'Price': 10, 'Quantity': 200},\n",
              " '1014': {'Name': 'Cutter', 'Price': 95, 'Quantity': 20},\n",
              " '1015': {'Name': 'Plates', 'Price': 25, 'Quantity': 100},\n",
              " '1016': {'Name': 'Hair Gel', 'Price': 200, 'Quantity': 80},\n",
              " '1017': {'Name': 'Towel', 'Price': 300, 'Quantity': 25},\n",
              " '1018': {'Name': 'Chair', 'Price': 575, 'Quantity': 10},\n",
              " '1019': {'Name': 'Frame', 'Price': 170, 'Quantity': 20},\n",
              " '1020': {'Name': 'Toys', 'Price': 300, 'Quantity': 30},\n",
              " '1021': {'Name': 'Cake', 'Price': 25, 'Quantity': 25},\n",
              " '1022': {'Name': 'Ice cream', 'Price': 10, 'Quantity': 200},\n",
              " '1023': {'Name': 'Milk', 'Price': 25, 'Quantity': 60},\n",
              " '1024': {'Name': 'Butter', 'Price': 185, 'Quantity': 30},\n",
              " '1025': {'Name': 'Paneer', 'Price': 190, 'Quantity': 25},\n",
              " '1026': {'Name': 'Mask', 'Price': 15, 'Quantity': 300},\n",
              " '1027': {'Name': 'Socks', 'Price': 170, 'Quantity': 100},\n",
              " '1028': {'Name': 'Pouch', 'Price': 30, 'Quantity': 100},\n",
              " '1029': {'Name': 'Scissors', 'Price': 90, 'Quantity': 100},\n",
              " '1031': {'Name': 'Ring', 'Price': 500, 'Quantity': 20}}"
            ]
          },
          "metadata": {},
          "execution_count": 59
        }
      ]
    },
    {
      "cell_type": "code",
      "metadata": {
        "id": "yYdqryHvaX6D"
      },
      "source": [
        "js = json.dumps(record)\n",
        "fd = open(\"record.json\",'w')\n",
        "fd.write(js)\n",
        "fd.close()"
      ],
      "execution_count": 60,
      "outputs": []
    },
    {
      "cell_type": "code",
      "metadata": {
        "id": "ZwtjhCJx2HcZ"
      },
      "source": [
        ""
      ],
      "execution_count": null,
      "outputs": []
    }
  ]
}