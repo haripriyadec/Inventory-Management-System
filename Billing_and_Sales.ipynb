{
  "nbformat": 4,
  "nbformat_minor": 0,
  "metadata": {
    "colab": {
      "name": "Billing and Sales.ipynb",
      "provenance": []
    },
    "kernelspec": {
      "name": "python3",
      "display_name": "Python 3"
    },
    "language_info": {
      "name": "python"
    }
  },
  "cells": [
    {
      "cell_type": "markdown",
      "metadata": {
        "id": "2g757GWga5KT"
      },
      "source": [
        "## **Reading the data**"
      ]
    },
    {
      "cell_type": "code",
      "metadata": {
        "id": "UdARLPtVa_8O"
      },
      "source": [
        "import json\n",
        "\n",
        "fd = open(\"record.json\",'r')\n",
        "r = fd.read()\n",
        "fd.close()\n",
        "\n",
        "records = json.loads(r)"
      ],
      "execution_count": null,
      "outputs": []
    },
    {
      "cell_type": "code",
      "metadata": {
        "colab": {
          "base_uri": "https://localhost:8080/"
        },
        "id": "sBBjj4UibBLS",
        "outputId": "c408d36c-a23c-4516-a091-80c5d54cc990"
      },
      "source": [
        "#to check\n",
        "records"
      ],
      "execution_count": null,
      "outputs": [
        {
          "output_type": "execute_result",
          "data": {
            "text/plain": [
              "{'1001': {'Name': 'Buscuit', 'Price': 50, 'Quantity': 30},\n",
              " '1002': {'Name': 'Chips', 'Price': 10, 'Quantity': 200},\n",
              " '1003': {'Name': 'Shampoo', 'Price': 125, 'Quantity': 100},\n",
              " '1004': {'Name': 'Chocolate', 'Price': 10, 'Quantity': 1000},\n",
              " '1005': {'Name': 'Pen', 'Price': 20, 'Quantity': 100},\n",
              " '1006': {'Name': 'Oil', 'Price': 75, 'Quantity': 100},\n",
              " '1007': {'Name': 'Bottles', 'Price': 170, 'Quantity': 200},\n",
              " '1008': {'Name': 'Umbrella', 'Price': 300, 'Quantity': 30},\n",
              " '1009': {'Name': 'Graph', 'Price': 1, 'Quantity': 100},\n",
              " '1010': {'Name': 'Lipstick', 'Price': 70, 'Quantity': 50},\n",
              " '1011': {'Name': 'Comb', 'Price': 25, 'Quantity': 70},\n",
              " '1012': {'Name': 'Band', 'Price': 10, 'Quantity': 100},\n",
              " '1013': {'Name': 'Pencil', 'Price': 10, 'Quantity': 200},\n",
              " '1014': {'Name': 'Cutter', 'Price': 95, 'Quantity': 20},\n",
              " '1015': {'Name': 'Plates', 'Price': 25, 'Quantity': 100},\n",
              " '1016': {'Name': 'Hair Gel', 'Price': 200, 'Quantity': 80},\n",
              " '1017': {'Name': 'Towel', 'Price': 300, 'Quantity': 25},\n",
              " '1018': {'Name': 'Chair', 'Price': 575, 'Quantity': 10},\n",
              " '1019': {'Name': 'Frame', 'Price': 170, 'Quantity': 20},\n",
              " '1020': {'Name': 'Toys', 'Price': 300, 'Quantity': 30},\n",
              " '1021': {'Name': 'Cake', 'Price': 25, 'Quantity': 25},\n",
              " '1022': {'Name': 'Ice cream', 'Price': 10, 'Quantity': 200},\n",
              " '1023': {'Name': 'Milk', 'Price': 25, 'Quantity': 60},\n",
              " '1024': {'Name': 'Butter', 'Price': 185, 'Quantity': 30},\n",
              " '1025': {'Name': 'Paneer', 'Price': 190, 'Quantity': 25},\n",
              " '1026': {'Name': 'Mask', 'Price': 15, 'Quantity': 300},\n",
              " '1027': {'Name': 'Socks', 'Price': 170, 'Quantity': 100},\n",
              " '1028': {'Name': 'Pouch', 'Price': 30, 'Quantity': 100},\n",
              " '1029': {'Name': 'Scissors', 'Price': 90, 'Quantity': 100},\n",
              " '1031': {'Name': 'Ring', 'Price': 500, 'Quantity': 30}}"
            ]
          },
          "metadata": {},
          "execution_count": 3
        }
      ]
    },
    {
      "cell_type": "markdown",
      "metadata": {
        "id": "vcqCkQwecOjL"
      },
      "source": [
        "## **Billing**"
      ]
    },
    {
      "cell_type": "code",
      "metadata": {
        "id": "JNPv5Q-db5Hu"
      },
      "source": [
        "sales={1:{'prod id':1001,'Quantity':2,'Amount':50}}"
      ],
      "execution_count": null,
      "outputs": []
    },
    {
      "cell_type": "code",
      "metadata": {
        "colab": {
          "base_uri": "https://localhost:8080/"
        },
        "id": "RN15MmYKcVIh",
        "outputId": "709ad45f-86d7-4bde-def6-887926143161"
      },
      "source": [
        "n=int(input(\"No of items:\"))\n",
        "print(\"----------------------------------------\")\n",
        "itemnum=1\n",
        "total=0\n",
        "while (itemnum<=n):  \n",
        "  ui_prod  = str(input(\"Enter the product_Id: \"))\n",
        "  ui_quant = int(input(\"Enter the quantity: \"))\n",
        "  if ui_prod not in records.keys():\n",
        "    print(\"ITEM DOES NOT EXISTS\")\n",
        "    print(\"----------------------------------------\")\n",
        "    itemnum+=1\n",
        "  else:\n",
        "    billing={}\n",
        "    print(\"          Product: \", records[ui_prod]['Name'])\n",
        "    print(\"          Price: \", records[ui_prod]['Price'])\n",
        "    print(\"          Billing Amount: \", records[ui_prod]['Price'] * ui_quant)\n",
        "    print(\"----------------------------------------\")\n",
        "    records[ui_prod]['Quantity'] = records[ui_prod]['Quantity'] - ui_quant\n",
        "    tot_cost=(records[str(ui_prod)][\"Price\"]*ui_quant)\n",
        "    total+=tot_cost\n",
        "    itemnum+=1\n",
        "    sales[len(sales)+1] = {'prod_id': ui_prod, 'Quantity': ui_quant, 'Amount':  ui_quant*records[ui_prod]['Price']}\n",
        "\n",
        "else:\n",
        "  print(\"TOTAL BILLING AMOUNT:\",total)\n",
        "  print(\"----------------------------------------\")\n",
        "  print(\"***************THANKYOU***************\")"
      ],
      "execution_count": null,
      "outputs": [
        {
          "output_type": "stream",
          "name": "stdout",
          "text": [
            "No of items:4\n",
            "----------------------------------------\n",
            "Enter the product_Id: 1008\n",
            "Enter the quantity: 1\n",
            "          Product:  Umbrella\n",
            "          Price:  300\n",
            "          Billing Amount:  300\n",
            "----------------------------------------\n",
            "Enter the product_Id: 1014\n",
            "Enter the quantity: 1\n",
            "          Product:  Cutter\n",
            "          Price:  95\n",
            "          Billing Amount:  95\n",
            "----------------------------------------\n",
            "Enter the product_Id: 1017\n",
            "Enter the quantity: 1\n",
            "          Product:  Towel\n",
            "          Price:  300\n",
            "          Billing Amount:  300\n",
            "----------------------------------------\n",
            "Enter the product_Id: 1020\n",
            "Enter the quantity: 1\n",
            "          Product:  Toys\n",
            "          Price:  300\n",
            "          Billing Amount:  300\n",
            "----------------------------------------\n",
            "TOTAL BILLING AMOUNT: 995\n",
            "----------------------------------------\n",
            "***************THANKYOU***************\n"
          ]
        }
      ]
    },
    {
      "cell_type": "code",
      "metadata": {
        "colab": {
          "base_uri": "https://localhost:8080/"
        },
        "id": "MCOU2iJbcXtR",
        "outputId": "093bd30d-0ce0-4778-e8ae-6b20384e0527"
      },
      "source": [
        "records"
      ],
      "execution_count": null,
      "outputs": [
        {
          "output_type": "execute_result",
          "data": {
            "text/plain": [
              "{'1001': {'Name': 'Buscuit', 'Price': 50, 'Quantity': 29},\n",
              " '1002': {'Name': 'Chips', 'Price': 10, 'Quantity': 200},\n",
              " '1003': {'Name': 'Shampoo', 'Price': 125, 'Quantity': 99},\n",
              " '1004': {'Name': 'Chocolate', 'Price': 10, 'Quantity': 1000},\n",
              " '1005': {'Name': 'Pen', 'Price': 20, 'Quantity': 98},\n",
              " '1006': {'Name': 'Oil', 'Price': 75, 'Quantity': 100},\n",
              " '1007': {'Name': 'Bottles', 'Price': 170, 'Quantity': 200},\n",
              " '1008': {'Name': 'Umbrella', 'Price': 300, 'Quantity': 29},\n",
              " '1009': {'Name': 'Graph', 'Price': 1, 'Quantity': 99},\n",
              " '1010': {'Name': 'Lipstick', 'Price': 70, 'Quantity': 48},\n",
              " '1011': {'Name': 'Comb', 'Price': 25, 'Quantity': 70},\n",
              " '1012': {'Name': 'Band', 'Price': 10, 'Quantity': 100},\n",
              " '1013': {'Name': 'Pencil', 'Price': 10, 'Quantity': 200},\n",
              " '1014': {'Name': 'Cutter', 'Price': 95, 'Quantity': 19},\n",
              " '1015': {'Name': 'Plates', 'Price': 25, 'Quantity': 99},\n",
              " '1016': {'Name': 'Hair Gel', 'Price': 200, 'Quantity': 80},\n",
              " '1017': {'Name': 'Towel', 'Price': 300, 'Quantity': 24},\n",
              " '1018': {'Name': 'Chair', 'Price': 575, 'Quantity': 10},\n",
              " '1019': {'Name': 'Frame', 'Price': 170, 'Quantity': 20},\n",
              " '1020': {'Name': 'Toys', 'Price': 300, 'Quantity': 29},\n",
              " '1021': {'Name': 'Cake', 'Price': 25, 'Quantity': 25},\n",
              " '1022': {'Name': 'Ice cream', 'Price': 10, 'Quantity': 200},\n",
              " '1023': {'Name': 'Milk', 'Price': 25, 'Quantity': 60},\n",
              " '1024': {'Name': 'Butter', 'Price': 185, 'Quantity': 30},\n",
              " '1025': {'Name': 'Paneer', 'Price': 190, 'Quantity': 25},\n",
              " '1026': {'Name': 'Mask', 'Price': 15, 'Quantity': 300},\n",
              " '1027': {'Name': 'Socks', 'Price': 170, 'Quantity': 100},\n",
              " '1028': {'Name': 'Pouch', 'Price': 30, 'Quantity': 100},\n",
              " '1029': {'Name': 'Scissors', 'Price': 90, 'Quantity': 100},\n",
              " '1031': {'Name': 'Ring', 'Price': 500, 'Quantity': 30}}"
            ]
          },
          "metadata": {},
          "execution_count": 7
        }
      ]
    },
    {
      "cell_type": "code",
      "metadata": {
        "id": "EJT7BMapdNnz"
      },
      "source": [
        "#updating inventories after purchase\n",
        "js = json.dumps(records)\n",
        "\n",
        "fd = open(\"record.json\",'w')\n",
        "fd.write(js)\n",
        "fd.close()"
      ],
      "execution_count": 16,
      "outputs": []
    },
    {
      "cell_type": "markdown",
      "metadata": {
        "id": "9Nk3ygtHc_-n"
      },
      "source": [
        "### **Sales Report**"
      ]
    },
    {
      "cell_type": "code",
      "metadata": {
        "colab": {
          "base_uri": "https://localhost:8080/"
        },
        "id": "-xMjiM2vvhwi",
        "outputId": "f234b829-a2e8-4766-d8d7-ea86041e1275"
      },
      "source": [
        "sales"
      ],
      "execution_count": 30,
      "outputs": [
        {
          "output_type": "execute_result",
          "data": {
            "text/plain": [
              "{1: {'Amount': 50, 'Quantity': 2, 'prod id': 1001},\n",
              " 2: {'Amount': 50, 'Quantity': 1, 'prod_id': '1001'},\n",
              " 3: {'Amount': 125, 'Quantity': 1, 'prod_id': '1003'},\n",
              " 4: {'Amount': 40, 'Quantity': 2, 'prod_id': '1005'},\n",
              " 5: {'Amount': 1, 'Quantity': 1, 'prod_id': '1009'},\n",
              " 6: {'Amount': 140, 'Quantity': 2, 'prod_id': '1010'},\n",
              " 7: {'Amount': 25, 'Quantity': 1, 'prod_id': '1015'},\n",
              " 8: {'Amount': 300, 'Quantity': 1, 'prod_id': '1008'},\n",
              " 9: {'Amount': 95, 'Quantity': 1, 'prod_id': '1014'},\n",
              " 10: {'Amount': 300, 'Quantity': 1, 'prod_id': '1017'},\n",
              " 11: {'Amount': 300, 'Quantity': 1, 'prod_id': '1020'}}"
            ]
          },
          "metadata": {},
          "execution_count": 30
        }
      ]
    },
    {
      "cell_type": "code",
      "metadata": {
        "id": "X7yW-_o0viaQ"
      },
      "source": [
        ""
      ],
      "execution_count": null,
      "outputs": []
    }
  ]
}